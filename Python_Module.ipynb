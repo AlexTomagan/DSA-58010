{
  "nbformat": 4,
  "nbformat_minor": 0,
  "metadata": {
    "colab": {
      "provenance": [],
      "authorship_tag": "ABX9TyOl/Wm7erFcFF/6zUdWcTJ+",
      "include_colab_link": true
    },
    "kernelspec": {
      "name": "python3",
      "display_name": "Python 3"
    },
    "language_info": {
      "name": "python"
    }
  },
  "cells": [
    {
      "cell_type": "markdown",
      "metadata": {
        "id": "view-in-github",
        "colab_type": "text"
      },
      "source": [
        "<a href=\"https://colab.research.google.com/github/AlexTomagan/DSA-58010/blob/main/Python_Module.ipynb\" target=\"_parent\"><img src=\"https://colab.research.google.com/assets/colab-badge.svg\" alt=\"Open In Colab\"/></a>"
      ]
    },
    {
      "cell_type": "markdown",
      "source": [
        "Example 1"
      ],
      "metadata": {
        "id": "U6Ey3J6F53Wy"
      }
    },
    {
      "cell_type": "code",
      "execution_count": 4,
      "metadata": {
        "colab": {
          "base_uri": "https://localhost:8080/"
        },
        "id": "myvy2OAt4yxL",
        "outputId": "20341ff0-4448-42a2-cf6c-95d6f74c4086"
      },
      "outputs": [
        {
          "output_type": "stream",
          "name": "stdout",
          "text": [
            "i\n",
            "f\n"
          ]
        }
      ],
      "source": [
        "import array \n",
        "array.typecodes #get all typecodes\n",
        "a = array.array('i',[1,2,3,4,5,6])   #initialize array a\n",
        "b = array.array('f',[1.5,2.5,3.5,4.5,5.5,6.5])  #initialize array b\n",
        "print(a.typecode) #getting the typecode of a\n",
        "print(b.typecode) #getting the typecode of b"
      ]
    },
    {
      "cell_type": "markdown",
      "source": [
        "Example 2 Create the elements of array A to float/decimal number"
      ],
      "metadata": {
        "id": "u5hKl4jC8dW1"
      }
    },
    {
      "cell_type": "code",
      "source": [
        "a = array.array('f',[1,2,3,4,5,6]) #initializing elements of array a \n",
        "print(a)"
      ],
      "metadata": {
        "colab": {
          "base_uri": "https://localhost:8080/"
        },
        "id": "Ny7v7UFd8fsA",
        "outputId": "11c6482a-c458-41b6-fa2e-c453b3f8f693"
      },
      "execution_count": 10,
      "outputs": [
        {
          "output_type": "stream",
          "name": "stdout",
          "text": [
            "array('f', [1.0, 2.0, 3.0, 4.0, 5.0, 6.0])\n"
          ]
        }
      ]
    },
    {
      "cell_type": "markdown",
      "source": [
        "Example 3"
      ],
      "metadata": {
        "id": "pVmaY1cUAKaa"
      }
    },
    {
      "cell_type": "code",
      "source": [
        "import array\n",
        "a = array.array('i',[4,5,6,7]) #initializing array a\n",
        "b = array.array('i',[5,4,3]) # initializing array b\n",
        "a.insert(1,2) #insert element: 2 to index 1\n",
        "print(a)\n",
        "a.insert(-1,0) #insert element: 0 to index -1\n",
        "print(a)\n",
        "a.insert(6,8) #insert element: 8 to index 6 which is out of range\n",
        "print(a)  #append the last element of array\n",
        "b[0] = 5\n",
        "b[1] = 4\n",
        "b[2] = 3\n",
        "print(b)"
      ],
      "metadata": {
        "colab": {
          "base_uri": "https://localhost:8080/"
        },
        "id": "dhT-QNT8AMPI",
        "outputId": "e46c385b-2f19-4667-e4f4-f183e9d1c83b"
      },
      "execution_count": 18,
      "outputs": [
        {
          "output_type": "stream",
          "name": "stdout",
          "text": [
            "array('i', [4, 2, 5, 6, 7])\n",
            "array('i', [4, 2, 5, 6, 0, 7])\n",
            "array('i', [4, 2, 5, 6, 0, 7, 8])\n",
            "array('i', [5, 4, 3])\n"
          ]
        }
      ]
    },
    {
      "cell_type": "markdown",
      "source": [
        "#Linked lists\n",
        "\n"
      ],
      "metadata": {
        "id": "0M9wir5_GgXl"
      }
    },
    {
      "cell_type": "code",
      "source": [
        "#function that creates node object\n",
        "\n",
        "class Node:\n",
        "  def __init__(self,data):\n",
        "    self.data = data    # assign data\n",
        "    self.next = None    # initialize as null\n",
        "\n",
        "#function that creates Linked-list object\n",
        "\n",
        "class LinkedList:\n",
        "  def __init(self):\n",
        "    self.head = None   #initialize head as null\n",
        "\n",
        "  def printList(self):\n",
        "    temp = self.head\n",
        "    while(temp!=None):\n",
        "      print(temp.data)\n",
        "      temp = temp.next\n",
        "\n",
        "list = LinkedList()    #empty list\n",
        "list.head = Node(1)\n",
        "second = Node(2)\n",
        "third = Node(3)\n",
        "fourth = Node(4)\n",
        "\n",
        "list.head.next=second\n",
        "second.next = third\n",
        "third.next = fourth\n",
        "\n",
        "list.printList()"
      ],
      "metadata": {
        "colab": {
          "base_uri": "https://localhost:8080/"
        },
        "id": "M-v8EeyAF8LG",
        "outputId": "2537053b-938a-4022-dfc6-827b122250ec"
      },
      "execution_count": 22,
      "outputs": [
        {
          "output_type": "stream",
          "name": "stdout",
          "text": [
            "1\n",
            "2\n",
            "3\n",
            "4\n"
          ]
        }
      ]
    }
  ]
}