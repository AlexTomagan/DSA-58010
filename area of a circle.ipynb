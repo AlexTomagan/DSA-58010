{
  "nbformat": 4,
  "nbformat_minor": 0,
  "metadata": {
    "colab": {
      "name": "Untitled5.ipynb",
      "provenance": [],
      "authorship_tag": "ABX9TyPs8OD4bs6fzrqPl3beTpeA",
      "include_colab_link": true
    },
    "kernelspec": {
      "name": "python3",
      "display_name": "Python 3"
    },
    "language_info": {
      "name": "python"
    }
  },
  "cells": [
    {
      "cell_type": "markdown",
      "metadata": {
        "id": "view-in-github",
        "colab_type": "text"
      },
      "source": [
        "<a href=\"https://colab.research.google.com/github/AlexTomagan/DSA-58010/blob/main/area%20of%20a%20circle.ipynb\" target=\"_parent\"><img src=\"https://colab.research.google.com/assets/colab-badge.svg\" alt=\"Open In Colab\"/></a>"
      ]
    },
    {
      "cell_type": "markdown",
      "source": [
        "Create a program how to calcuate the area of a circle"
      ],
      "metadata": {
        "id": "rdZG19-EYWgT"
      }
    },
    {
      "cell_type": "code",
      "execution_count": 7,
      "metadata": {
        "colab": {
          "base_uri": "https://localhost:8080/"
        },
        "id": "S66c_4i2TC5m",
        "outputId": "d910f41d-963e-4706-c238-23c9822d0756"
      },
      "outputs": [
        {
          "output_type": "stream",
          "name": "stdout",
          "text": [
            "Area of circle = 3.140000\n"
          ]
        }
      ],
      "source": [
        "def findArea(r):\n",
        " PI = 3.14\n",
        " return PI * (r*r);\n",
        "print(\"Area of circle = %.6f\" % findArea(1));"
      ]
    }
  ]
}