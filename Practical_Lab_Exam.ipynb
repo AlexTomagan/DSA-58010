{
  "nbformat": 4,
  "nbformat_minor": 0,
  "metadata": {
    "colab": {
      "name": "Practical Lab Exam.ipynb",
      "provenance": [],
      "authorship_tag": "ABX9TyPZm7+CSbKTqs/6laorDI6m",
      "include_colab_link": true
    },
    "kernelspec": {
      "name": "python3",
      "display_name": "Python 3"
    },
    "language_info": {
      "name": "python"
    }
  },
  "cells": [
    {
      "cell_type": "markdown",
      "metadata": {
        "id": "view-in-github",
        "colab_type": "text"
      },
      "source": [
        "<a href=\"https://colab.research.google.com/github/AlexTomagan/DSA-58010/blob/main/Practical_Lab_Exam.ipynb\" target=\"_parent\"><img src=\"https://colab.research.google.com/assets/colab-badge.svg\" alt=\"Open In Colab\"/></a>"
      ]
    },
    {
      "cell_type": "markdown",
      "source": [
        "check scores as given below if the number is even"
      ],
      "metadata": {
        "id": "vABzw-N8jV73"
      }
    },
    {
      "cell_type": "code",
      "execution_count": 9,
      "metadata": {
        "colab": {
          "base_uri": "https://localhost:8080/"
        },
        "id": "2_KMDDDRf8_M",
        "outputId": "1573b7e5-476d-4621-b42b-a0c276260d09"
      },
      "outputs": [
        {
          "output_type": "stream",
          "name": "stdout",
          "text": [
            "26 98 62 "
          ]
        }
      ],
      "source": [
        "list1 = [26, 49, 98, 87, 62, 75]\n",
        "for num in list1:\n",
        "    if num % 2 == 0:\n",
        "        print(num, end=\" \")"
      ]
    }
  ]
}