{
  "nbformat": 4,
  "nbformat_minor": 0,
  "metadata": {
    "colab": {
      "name": "Untitled4.ipynb",
      "provenance": [],
      "authorship_tag": "ABX9TyNJDjtCpHs1KGkR4OYLS/Ig",
      "include_colab_link": true
    },
    "kernelspec": {
      "name": "python3",
      "display_name": "Python 3"
    },
    "language_info": {
      "name": "python"
    }
  },
  "cells": [
    {
      "cell_type": "markdown",
      "metadata": {
        "id": "view-in-github",
        "colab_type": "text"
      },
      "source": [
        "<a href=\"https://colab.research.google.com/github/AlexTomagan/DSA-58010/blob/main/Explain%20how%20Polymorphism%20and%20Inheritance%20are%20being%20applied.ipynb\" target=\"_parent\"><img src=\"https://colab.research.google.com/assets/colab-badge.svg\" alt=\"Open In Colab\"/></a>"
      ]
    },
    {
      "cell_type": "code",
      "source": [
        "class Shape:\n",
        "  def Area(self):\n",
        "    pass\n",
        "  def Perimeter(self):\n",
        "    pass\n",
        "class Rectangle:\n",
        "  def __init__(self,side1,side2):\n",
        "    self.side1 = side1\n",
        "    self.side2 = side2\n",
        "  def Area(self):\n",
        "    print(self.side1 * self.side2)\n",
        "  def perimeter(self):\n",
        "    print(2*(self.side1+self.side2))\n",
        "class Square(Shape):\n",
        "  def __init__(self,side):\n",
        "    self.side = side\n",
        "  def Area(self):\n",
        "    print(self.side**2)\n",
        "  def Perimeter(self):\n",
        "    print(self.side*4)\n",
        "square = Square(4)\n",
        "square.Area()\n",
        "\n",
        "rect=Rectangle(7, 3)\n",
        "rect.Area()\n",
        "\n",
        "square.Perimeter()\n",
        "rect.perimeter()"
      ],
      "metadata": {
        "colab": {
          "base_uri": "https://localhost:8080/"
        },
        "outputId": "19e49250-fb86-4d95-ecc8-e9575cc933d6",
        "id": "9zyN3ceTLVI6"
      },
      "execution_count": 28,
      "outputs": [
        {
          "output_type": "stream",
          "name": "stdout",
          "text": [
            "16\n",
            "21\n",
            "16\n",
            "20\n"
          ]
        }
      ]
    },
    {
      "cell_type": "markdown",
      "source": [
        "inheritance only pertain to class whereas polymophism applies to method. Here in this program it uses Shape, Rectangle, Square as class name and side as it attributes to compute the entire Area and perimeter of an square and a rectangle"
      ],
      "metadata": {
        "id": "7oYHCHqoRLyb"
      }
    },
    {
      "cell_type": "markdown",
      "source": [
        "\n"
      ],
      "metadata": {
        "id": "qS6u_gnwNt56"
      }
    }
  ]
}