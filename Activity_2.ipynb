{
  "nbformat": 4,
  "nbformat_minor": 0,
  "metadata": {
    "colab": {
      "provenance": [],
      "authorship_tag": "ABX9TyNN9konvYXT+mQWuuuuKtun",
      "include_colab_link": true
    },
    "kernelspec": {
      "name": "python3",
      "display_name": "Python 3"
    },
    "language_info": {
      "name": "python"
    }
  },
  "cells": [
    {
      "cell_type": "markdown",
      "metadata": {
        "id": "view-in-github",
        "colab_type": "text"
      },
      "source": [
        "<a href=\"https://colab.research.google.com/github/AlexTomagan/DSA-58010/blob/main/Activity_2.ipynb\" target=\"_parent\"><img src=\"https://colab.research.google.com/assets/colab-badge.svg\" alt=\"Open In Colab\"/></a>"
      ]
    },
    {
      "cell_type": "code",
      "execution_count": 35,
      "metadata": {
        "colab": {
          "base_uri": "https://localhost:8080/"
        },
        "id": "KHEjaqPh_cI9",
        "outputId": "6484406d-fef3-46b6-c427-50e08f0938f6"
      },
      "outputs": [
        {
          "output_type": "stream",
          "name": "stdout",
          "text": [
            "2 --> 3 --> 5 --> 7 --> 11 --> 17 --> 19 --> "
          ]
        }
      ],
      "source": [
        "class Node:\n",
        "  def __init__(self,data):\n",
        "    self.data = data    \n",
        "    self.next = None    \n",
        "\n",
        "class SingleLinkedlist:\n",
        "  def __init(self):\n",
        "    self.head = None\n",
        "\n",
        "  def display(self):\n",
        "    if self.head is None:\n",
        "      print(\"Linked list is Empty\")\n",
        "    else:\n",
        "      temp=self.head\n",
        "      while temp:\n",
        "        print(temp.data,\"-->\",end=\" \")\n",
        "        temp=temp.next\n",
        "\n",
        "L=SingleLinkedlist()\n",
        "n=Node(2)\n",
        "L.head=n\n",
        "n1=Node(3)\n",
        "L.head.next=n1\n",
        "n2=Node(5)\n",
        "n1.next=n2\n",
        "n3=Node(7)\n",
        "n2.next=n3\n",
        "n4=Node(11)\n",
        "n3.next=n4\n",
        "n5=Node(17)\n",
        "n4.next=n5\n",
        "n6=Node(19)\n",
        "n5.next=n6\n",
        "L.display()"
      ]
    }
  ]
}